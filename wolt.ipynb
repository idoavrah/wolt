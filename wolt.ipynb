{
 "cells": [
  {
   "cell_type": "code",
   "execution_count": 331,
   "metadata": {},
   "outputs": [],
   "source": [
    "import json\n",
    "import pytz\n",
    "import pandas as pd\n",
    "import numpy as np\n",
    "import plotly.express as px\n",
    "\n",
    "from plotly.subplots import make_subplots\n",
    "from datetime import datetime\n",
    "from time import mktime\n",
    "from dateutil.relativedelta import relativedelta\n",
    "\n",
    "def getyearmonth(row):\n",
    "    return datetime.utcfromtimestamp(row['payment_time.$date']/1000).strftime('%Y-%m')\n",
    "\n",
    "f = open('temp/test.json')\n",
    "myjson = json.load(f)\n",
    "\n",
    "orders = pd.json_normalize(myjson)\n",
    "orders['myitems'] = orders.apply(lambda row: row[\"items\"] if row[\"items\"]==row[\"items\"] else row[\"group.my_member.items\"], axis=1)\n",
    "orders['myprices'] = orders.apply(lambda row: row[\"total_price_share\"] if row[\"total_price_share\"] > 0 else row[\"total_price\"], axis=1)\n",
    "orders['venue_name_fixed'] = orders['venue_name'].str.extract(r'([^\\\\/|+]*)')\n",
    "orders[\"year-month\"] = orders.apply(lambda row: getyearmonth(row), axis=1)\n",
    "\n",
    "lastYear = mktime((datetime.today().date().replace(day=1) - relativedelta(years=1)).timetuple()) * 1000\n",
    "orders = orders[orders['delivery_time.$date'] >= lastYear]"
   ]
  },
  {
   "cell_type": "code",
   "execution_count": 332,
   "metadata": {},
   "outputs": [],
   "source": [
    "monthly = (orders.groupby(['currency', 'year-month']).sum('total_price').total_price/100).reset_index(level=['currency', 'year-month'])"
   ]
  },
  {
   "cell_type": "code",
   "execution_count": 333,
   "metadata": {},
   "outputs": [
    {
     "data": {
      "text/plain": [
       "192"
      ]
     },
     "execution_count": 333,
     "metadata": {},
     "output_type": "execute_result"
    }
   ],
   "source": [
    "items = orders.explode('myitems')\n",
    "items[\"item_name\"] = items['myitems'].map(lambda x : x[\"name\"]) \n",
    "items[\"item_count\"] = items['myitems'].map(lambda x : x[\"count\"])\n",
    "items[\"item_total_price\"] = items['myitems'].map(lambda x : x[\"end_amount\"])\n",
    "len(items.index)\n"
   ]
  },
  {
   "cell_type": "code",
   "execution_count": 334,
   "metadata": {},
   "outputs": [
    {
     "data": {
      "text/plain": [
       "64"
      ]
     },
     "execution_count": 334,
     "metadata": {},
     "output_type": "execute_result"
    }
   ],
   "source": [
    "orders['order_id'].count()"
   ]
  },
  {
   "cell_type": "code",
   "execution_count": 335,
   "metadata": {},
   "outputs": [
    {
     "data": {
      "text/plain": [
       "'8538.00 ILS / 2332.00 USD / 671.00 EUR'"
      ]
     },
     "execution_count": 335,
     "metadata": {},
     "output_type": "execute_result"
    }
   ],
   "source": [
    "totals = (orders[['currency','myprices']].groupby(['currency']).sum().sort_values('myprices', ascending=False)/100).to_dict()['myprices']\n",
    "\" / \".join(f'{tup[1]:.2f} {tup[0]}'  for tup in list(totals.items()))"
   ]
  },
  {
   "cell_type": "code",
   "execution_count": 336,
   "metadata": {},
   "outputs": [
    {
     "data": {
      "text/plain": [
       "'181.66 ILS / 179.38 USD / 167.75 EUR'"
      ]
     },
     "execution_count": 336,
     "metadata": {},
     "output_type": "execute_result"
    }
   ],
   "source": [
    "averages = (orders[['currency','myprices']].groupby(['currency']).mean().sort_values('myprices', ascending=False)/100).to_dict()['myprices']\n",
    "\" / \".join(f'{tup[1]:.2f} {tup[0]}'  for tup in list(averages.items()))"
   ]
  },
  {
   "cell_type": "code",
   "execution_count": 337,
   "metadata": {},
   "outputs": [
    {
     "data": {
      "application/vnd.plotly.v1+json": {
       "config": {
        "plotlyServerURL": "https://plot.ly"
       },
       "data": [
        {
         "coloraxis": "coloraxis",
         "hovertemplate": "x: %{x}<br>y: %{y}<br>color: %{z}<extra></extra>",
         "name": "0",
         "texttemplate": "%{z}",
         "type": "heatmap",
         "x": [
          "Sunday",
          "Monday",
          "Tuesday",
          "Wednesday",
          "Thursday",
          "Friday",
          "Saturday"
         ],
         "xaxis": "x",
         "y": [
          "Morning (6-12)",
          "Noon (12-16)",
          "Afternoon (16-19)",
          "Evening (19-22)",
          "Night (22-6)"
         ],
         "yaxis": "y",
         "z": [
          [
           2,
           3,
           1,
           2,
           4,
           1,
           0
          ],
          [
           3,
           4,
           5,
           6,
           8,
           6,
           1
          ],
          [
           1,
           2,
           1,
           6,
           2,
           1,
           2
          ],
          [
           1,
           0,
           0,
           1,
           0,
           0,
           1
          ],
          [
           0,
           0,
           0,
           0,
           0,
           0,
           0
          ]
         ]
        }
       ],
       "layout": {
        "coloraxis": {
         "colorscale": [
          [
           0,
           "#0d0887"
          ],
          [
           0.1111111111111111,
           "#46039f"
          ],
          [
           0.2222222222222222,
           "#7201a8"
          ],
          [
           0.3333333333333333,
           "#9c179e"
          ],
          [
           0.4444444444444444,
           "#bd3786"
          ],
          [
           0.5555555555555556,
           "#d8576b"
          ],
          [
           0.6666666666666666,
           "#ed7953"
          ],
          [
           0.7777777777777778,
           "#fb9f3a"
          ],
          [
           0.8888888888888888,
           "#fdca26"
          ],
          [
           1,
           "#f0f921"
          ]
         ],
         "showscale": false
        },
        "height": 600,
        "margin": {
         "t": 60
        },
        "template": {
         "data": {
          "bar": [
           {
            "error_x": {
             "color": "#2a3f5f"
            },
            "error_y": {
             "color": "#2a3f5f"
            },
            "marker": {
             "line": {
              "color": "#E5ECF6",
              "width": 0.5
             },
             "pattern": {
              "fillmode": "overlay",
              "size": 10,
              "solidity": 0.2
             }
            },
            "type": "bar"
           }
          ],
          "barpolar": [
           {
            "marker": {
             "line": {
              "color": "#E5ECF6",
              "width": 0.5
             },
             "pattern": {
              "fillmode": "overlay",
              "size": 10,
              "solidity": 0.2
             }
            },
            "type": "barpolar"
           }
          ],
          "carpet": [
           {
            "aaxis": {
             "endlinecolor": "#2a3f5f",
             "gridcolor": "white",
             "linecolor": "white",
             "minorgridcolor": "white",
             "startlinecolor": "#2a3f5f"
            },
            "baxis": {
             "endlinecolor": "#2a3f5f",
             "gridcolor": "white",
             "linecolor": "white",
             "minorgridcolor": "white",
             "startlinecolor": "#2a3f5f"
            },
            "type": "carpet"
           }
          ],
          "choropleth": [
           {
            "colorbar": {
             "outlinewidth": 0,
             "ticks": ""
            },
            "type": "choropleth"
           }
          ],
          "contour": [
           {
            "colorbar": {
             "outlinewidth": 0,
             "ticks": ""
            },
            "colorscale": [
             [
              0,
              "#0d0887"
             ],
             [
              0.1111111111111111,
              "#46039f"
             ],
             [
              0.2222222222222222,
              "#7201a8"
             ],
             [
              0.3333333333333333,
              "#9c179e"
             ],
             [
              0.4444444444444444,
              "#bd3786"
             ],
             [
              0.5555555555555556,
              "#d8576b"
             ],
             [
              0.6666666666666666,
              "#ed7953"
             ],
             [
              0.7777777777777778,
              "#fb9f3a"
             ],
             [
              0.8888888888888888,
              "#fdca26"
             ],
             [
              1,
              "#f0f921"
             ]
            ],
            "type": "contour"
           }
          ],
          "contourcarpet": [
           {
            "colorbar": {
             "outlinewidth": 0,
             "ticks": ""
            },
            "type": "contourcarpet"
           }
          ],
          "heatmap": [
           {
            "colorbar": {
             "outlinewidth": 0,
             "ticks": ""
            },
            "colorscale": [
             [
              0,
              "#0d0887"
             ],
             [
              0.1111111111111111,
              "#46039f"
             ],
             [
              0.2222222222222222,
              "#7201a8"
             ],
             [
              0.3333333333333333,
              "#9c179e"
             ],
             [
              0.4444444444444444,
              "#bd3786"
             ],
             [
              0.5555555555555556,
              "#d8576b"
             ],
             [
              0.6666666666666666,
              "#ed7953"
             ],
             [
              0.7777777777777778,
              "#fb9f3a"
             ],
             [
              0.8888888888888888,
              "#fdca26"
             ],
             [
              1,
              "#f0f921"
             ]
            ],
            "type": "heatmap"
           }
          ],
          "heatmapgl": [
           {
            "colorbar": {
             "outlinewidth": 0,
             "ticks": ""
            },
            "colorscale": [
             [
              0,
              "#0d0887"
             ],
             [
              0.1111111111111111,
              "#46039f"
             ],
             [
              0.2222222222222222,
              "#7201a8"
             ],
             [
              0.3333333333333333,
              "#9c179e"
             ],
             [
              0.4444444444444444,
              "#bd3786"
             ],
             [
              0.5555555555555556,
              "#d8576b"
             ],
             [
              0.6666666666666666,
              "#ed7953"
             ],
             [
              0.7777777777777778,
              "#fb9f3a"
             ],
             [
              0.8888888888888888,
              "#fdca26"
             ],
             [
              1,
              "#f0f921"
             ]
            ],
            "type": "heatmapgl"
           }
          ],
          "histogram": [
           {
            "marker": {
             "pattern": {
              "fillmode": "overlay",
              "size": 10,
              "solidity": 0.2
             }
            },
            "type": "histogram"
           }
          ],
          "histogram2d": [
           {
            "colorbar": {
             "outlinewidth": 0,
             "ticks": ""
            },
            "colorscale": [
             [
              0,
              "#0d0887"
             ],
             [
              0.1111111111111111,
              "#46039f"
             ],
             [
              0.2222222222222222,
              "#7201a8"
             ],
             [
              0.3333333333333333,
              "#9c179e"
             ],
             [
              0.4444444444444444,
              "#bd3786"
             ],
             [
              0.5555555555555556,
              "#d8576b"
             ],
             [
              0.6666666666666666,
              "#ed7953"
             ],
             [
              0.7777777777777778,
              "#fb9f3a"
             ],
             [
              0.8888888888888888,
              "#fdca26"
             ],
             [
              1,
              "#f0f921"
             ]
            ],
            "type": "histogram2d"
           }
          ],
          "histogram2dcontour": [
           {
            "colorbar": {
             "outlinewidth": 0,
             "ticks": ""
            },
            "colorscale": [
             [
              0,
              "#0d0887"
             ],
             [
              0.1111111111111111,
              "#46039f"
             ],
             [
              0.2222222222222222,
              "#7201a8"
             ],
             [
              0.3333333333333333,
              "#9c179e"
             ],
             [
              0.4444444444444444,
              "#bd3786"
             ],
             [
              0.5555555555555556,
              "#d8576b"
             ],
             [
              0.6666666666666666,
              "#ed7953"
             ],
             [
              0.7777777777777778,
              "#fb9f3a"
             ],
             [
              0.8888888888888888,
              "#fdca26"
             ],
             [
              1,
              "#f0f921"
             ]
            ],
            "type": "histogram2dcontour"
           }
          ],
          "mesh3d": [
           {
            "colorbar": {
             "outlinewidth": 0,
             "ticks": ""
            },
            "type": "mesh3d"
           }
          ],
          "parcoords": [
           {
            "line": {
             "colorbar": {
              "outlinewidth": 0,
              "ticks": ""
             }
            },
            "type": "parcoords"
           }
          ],
          "pie": [
           {
            "automargin": true,
            "type": "pie"
           }
          ],
          "scatter": [
           {
            "marker": {
             "colorbar": {
              "outlinewidth": 0,
              "ticks": ""
             }
            },
            "type": "scatter"
           }
          ],
          "scatter3d": [
           {
            "line": {
             "colorbar": {
              "outlinewidth": 0,
              "ticks": ""
             }
            },
            "marker": {
             "colorbar": {
              "outlinewidth": 0,
              "ticks": ""
             }
            },
            "type": "scatter3d"
           }
          ],
          "scattercarpet": [
           {
            "marker": {
             "colorbar": {
              "outlinewidth": 0,
              "ticks": ""
             }
            },
            "type": "scattercarpet"
           }
          ],
          "scattergeo": [
           {
            "marker": {
             "colorbar": {
              "outlinewidth": 0,
              "ticks": ""
             }
            },
            "type": "scattergeo"
           }
          ],
          "scattergl": [
           {
            "marker": {
             "colorbar": {
              "outlinewidth": 0,
              "ticks": ""
             }
            },
            "type": "scattergl"
           }
          ],
          "scattermapbox": [
           {
            "marker": {
             "colorbar": {
              "outlinewidth": 0,
              "ticks": ""
             }
            },
            "type": "scattermapbox"
           }
          ],
          "scatterpolar": [
           {
            "marker": {
             "colorbar": {
              "outlinewidth": 0,
              "ticks": ""
             }
            },
            "type": "scatterpolar"
           }
          ],
          "scatterpolargl": [
           {
            "marker": {
             "colorbar": {
              "outlinewidth": 0,
              "ticks": ""
             }
            },
            "type": "scatterpolargl"
           }
          ],
          "scatterternary": [
           {
            "marker": {
             "colorbar": {
              "outlinewidth": 0,
              "ticks": ""
             }
            },
            "type": "scatterternary"
           }
          ],
          "surface": [
           {
            "colorbar": {
             "outlinewidth": 0,
             "ticks": ""
            },
            "colorscale": [
             [
              0,
              "#0d0887"
             ],
             [
              0.1111111111111111,
              "#46039f"
             ],
             [
              0.2222222222222222,
              "#7201a8"
             ],
             [
              0.3333333333333333,
              "#9c179e"
             ],
             [
              0.4444444444444444,
              "#bd3786"
             ],
             [
              0.5555555555555556,
              "#d8576b"
             ],
             [
              0.6666666666666666,
              "#ed7953"
             ],
             [
              0.7777777777777778,
              "#fb9f3a"
             ],
             [
              0.8888888888888888,
              "#fdca26"
             ],
             [
              1,
              "#f0f921"
             ]
            ],
            "type": "surface"
           }
          ],
          "table": [
           {
            "cells": {
             "fill": {
              "color": "#EBF0F8"
             },
             "line": {
              "color": "white"
             }
            },
            "header": {
             "fill": {
              "color": "#C8D4E3"
             },
             "line": {
              "color": "white"
             }
            },
            "type": "table"
           }
          ]
         },
         "layout": {
          "annotationdefaults": {
           "arrowcolor": "#2a3f5f",
           "arrowhead": 0,
           "arrowwidth": 1
          },
          "autotypenumbers": "strict",
          "coloraxis": {
           "colorbar": {
            "outlinewidth": 0,
            "ticks": ""
           }
          },
          "colorscale": {
           "diverging": [
            [
             0,
             "#8e0152"
            ],
            [
             0.1,
             "#c51b7d"
            ],
            [
             0.2,
             "#de77ae"
            ],
            [
             0.3,
             "#f1b6da"
            ],
            [
             0.4,
             "#fde0ef"
            ],
            [
             0.5,
             "#f7f7f7"
            ],
            [
             0.6,
             "#e6f5d0"
            ],
            [
             0.7,
             "#b8e186"
            ],
            [
             0.8,
             "#7fbc41"
            ],
            [
             0.9,
             "#4d9221"
            ],
            [
             1,
             "#276419"
            ]
           ],
           "sequential": [
            [
             0,
             "#0d0887"
            ],
            [
             0.1111111111111111,
             "#46039f"
            ],
            [
             0.2222222222222222,
             "#7201a8"
            ],
            [
             0.3333333333333333,
             "#9c179e"
            ],
            [
             0.4444444444444444,
             "#bd3786"
            ],
            [
             0.5555555555555556,
             "#d8576b"
            ],
            [
             0.6666666666666666,
             "#ed7953"
            ],
            [
             0.7777777777777778,
             "#fb9f3a"
            ],
            [
             0.8888888888888888,
             "#fdca26"
            ],
            [
             1,
             "#f0f921"
            ]
           ],
           "sequentialminus": [
            [
             0,
             "#0d0887"
            ],
            [
             0.1111111111111111,
             "#46039f"
            ],
            [
             0.2222222222222222,
             "#7201a8"
            ],
            [
             0.3333333333333333,
             "#9c179e"
            ],
            [
             0.4444444444444444,
             "#bd3786"
            ],
            [
             0.5555555555555556,
             "#d8576b"
            ],
            [
             0.6666666666666666,
             "#ed7953"
            ],
            [
             0.7777777777777778,
             "#fb9f3a"
            ],
            [
             0.8888888888888888,
             "#fdca26"
            ],
            [
             1,
             "#f0f921"
            ]
           ]
          },
          "colorway": [
           "#636efa",
           "#EF553B",
           "#00cc96",
           "#ab63fa",
           "#FFA15A",
           "#19d3f3",
           "#FF6692",
           "#B6E880",
           "#FF97FF",
           "#FECB52"
          ],
          "font": {
           "color": "#2a3f5f"
          },
          "geo": {
           "bgcolor": "white",
           "lakecolor": "white",
           "landcolor": "#E5ECF6",
           "showlakes": true,
           "showland": true,
           "subunitcolor": "white"
          },
          "hoverlabel": {
           "align": "left"
          },
          "hovermode": "closest",
          "mapbox": {
           "style": "light"
          },
          "paper_bgcolor": "white",
          "plot_bgcolor": "#E5ECF6",
          "polar": {
           "angularaxis": {
            "gridcolor": "white",
            "linecolor": "white",
            "ticks": ""
           },
           "bgcolor": "#E5ECF6",
           "radialaxis": {
            "gridcolor": "white",
            "linecolor": "white",
            "ticks": ""
           }
          },
          "scene": {
           "xaxis": {
            "backgroundcolor": "#E5ECF6",
            "gridcolor": "white",
            "gridwidth": 2,
            "linecolor": "white",
            "showbackground": true,
            "ticks": "",
            "zerolinecolor": "white"
           },
           "yaxis": {
            "backgroundcolor": "#E5ECF6",
            "gridcolor": "white",
            "gridwidth": 2,
            "linecolor": "white",
            "showbackground": true,
            "ticks": "",
            "zerolinecolor": "white"
           },
           "zaxis": {
            "backgroundcolor": "#E5ECF6",
            "gridcolor": "white",
            "gridwidth": 2,
            "linecolor": "white",
            "showbackground": true,
            "ticks": "",
            "zerolinecolor": "white"
           }
          },
          "shapedefaults": {
           "line": {
            "color": "#2a3f5f"
           }
          },
          "ternary": {
           "aaxis": {
            "gridcolor": "white",
            "linecolor": "white",
            "ticks": ""
           },
           "baxis": {
            "gridcolor": "white",
            "linecolor": "white",
            "ticks": ""
           },
           "bgcolor": "#E5ECF6",
           "caxis": {
            "gridcolor": "white",
            "linecolor": "white",
            "ticks": ""
           }
          },
          "title": {
           "x": 0.05
          },
          "xaxis": {
           "automargin": true,
           "gridcolor": "white",
           "linecolor": "white",
           "ticks": "",
           "title": {
            "standoff": 15
           },
           "zerolinecolor": "white",
           "zerolinewidth": 2
          },
          "yaxis": {
           "automargin": true,
           "gridcolor": "white",
           "linecolor": "white",
           "ticks": "",
           "title": {
            "standoff": 15
           },
           "zerolinecolor": "white",
           "zerolinewidth": 2
          }
         }
        },
        "width": 600,
        "xaxis": {
         "anchor": "y",
         "domain": [
          0,
          1
         ],
         "side": "top"
        },
        "yaxis": {
         "anchor": "x",
         "autorange": "reversed",
         "domain": [
          0,
          1
         ]
        }
       }
      }
     },
     "metadata": {},
     "output_type": "display_data"
    }
   ],
   "source": [
    "orders_heatmap = pd.DataFrame(np.zeros((5, 7)))\n",
    "\n",
    "for index, row in orders.iterrows():\n",
    "\n",
    "    timezone = pytz.timezone(row[\"venue_timezone\"])\n",
    "    timestamp = datetime.fromtimestamp(\n",
    "        row['payment_time.$date']/1000, timezone)\n",
    "\n",
    "    weekday = int(timestamp.strftime('%w'))\n",
    "    hour = int(timestamp.strftime('%H'))\n",
    "\n",
    "    if hour <= 6:\n",
    "        timeofday = 4\n",
    "    elif hour <= 12:\n",
    "        timeofday = 0\n",
    "    elif hour <= 16:\n",
    "        timeofday = 1\n",
    "    elif hour <= 19:\n",
    "        timeofday = 2\n",
    "    elif hour <= 24:\n",
    "        timeofday = 3\n",
    "    else:\n",
    "        timeofday = 4\n",
    "\n",
    "    orders_heatmap[weekday][timeofday] += 1\n",
    "\n",
    "labels_x = ['Sunday', 'Monday', 'Tuesday',\n",
    "            'Wednesday', 'Thursday', 'Friday', 'Saturday']\n",
    "labels_y = ['Morning (6-12)', 'Noon (12-16)',\n",
    "            'Afternoon (16-19)', 'Evening (19-22)', 'Night (22-6)']\n",
    "\n",
    "fig = px.imshow(orders_heatmap, y=labels_y, x=labels_x,\n",
    "                aspect='auto', text_auto=True, height=600, width=600)\n",
    "fig.update_layout(coloraxis_showscale=False)\n",
    "fig.update_xaxes(side=\"top\")\n",
    "\n",
    "fig"
   ]
  },
  {
   "cell_type": "code",
   "execution_count": 338,
   "metadata": {},
   "outputs": [
    {
     "data": {
      "application/vnd.plotly.v1+json": {
       "config": {
        "plotlyServerURL": "https://plot.ly"
       },
       "data": [
        {
         "branchvalues": "total",
         "domain": {
          "x": [
           0,
           1
          ],
          "y": [
           0,
           1
          ]
         },
         "hovertemplate": "labels=%{label}<br>item_total_price=%{value}<br>parent=%{parent}<br>id=%{id}<extra></extra>",
         "ids": [
          "ILS/Sui Sushi /BLACK TIGER",
          "ILS/The Showroom Bakehouse /Quarantine Pack",
          "ILS/Mevashlim & Pitzi Cafe /אורז עם גזר וצימוקים",
          "USD/Mevashlim & Pitzi Cafe /אורז עם גזר וצימוקים",
          "ILS/Miznon /אינטימי בפיתה",
          "ILS/JAPO /בול אטלנטי",
          "ILS/Mevashlim & Pitzi Cafe /בטטה אפויה",
          "ILS/Miznon /בטטה אפויה",
          "ILS/Miznon /בירה שחורה נשר",
          "USD/Nono /בראוניז",
          "ILS/Golda /גלידה 0,5 קילו",
          "USD/Golda /גלידה 1 קילו",
          "ILS/Mifgash Bar Lin/המבורגר בקר",
          "USD/Mevashlim & Pitzi Cafe /זוג בראוניז",
          "ILS/Hummus Yossef /חומוס בגביע",
          "ILS/Hummus Kaspi /חומוס כספי",
          "ILS/Mevashlim & Pitzi Cafe /חציל רומני",
          "USD/Tatami/טאטאמי טמפורה",
          "EUR/FU Sushi/טייגר רול",
          "EUR/Miznon /כבד של תרנגולת בפיתה",
          "USD/Miznon /כבד של תרנגולת בפיתה",
          "EUR/Beta Cafe /כבדי עוף",
          "ILS/Beta Cafe /כבדי עוף",
          "USD/Beta Cafe /כבדי עוף",
          "ILS/Pizza Gronemann /כתומה",
          "EUR/Beta Cafe /לביבות כרובית",
          "ILS/Beta Cafe /לביבות כרובית",
          "ILS/Mevashlim & Pitzi Cafe /לזניה בקר",
          "USD/Nono /לחם מימי",
          "USD/Tatami/מאקי חם",
          "USD/Tatami/מאקי סלמון אבוקדו",
          "ILS/Miznon /מינוט סטייק בפיתה",
          "USD/Miznon /מינוט סטייק בפיתה",
          "ILS/Hummus Kaspi /מלאווח מגולגל",
          "ILS/Hummus Yossef /מנסף עם בשר",
          "ILS/Hummus Kaspi /מסבחה",
          "USD/Miznon /מסבחה חומוס של העיר העתיקה",
          "ILS/Nono /מרגריטה",
          "ILS/Pizza Gronemann /מרגריטה",
          "ILS/Nono /ניוקי נאפולי",
          "ILS/Nono /ניוקי פולנטה פטריות🌾",
          "ILS/Beta Cafe /נקניקיות על פירה",
          "EUR/FU Sushi/סאקה יאקי רול",
          "ILS/Sui Sushi /סביצ׳ה רול",
          "USD/Tatami/סושי סלק",
          "ILS/Nono /סלוניקי",
          "ILS/Nono /סלט בולגרית",
          "ILS/Beta Cafe /סלט גדול של ירקות ולאבנה",
          "USD/Beta Cafe /סלט גדול של ירקות ולאבנה",
          "ILS/Nono /סלט ירוק",
          "ILS/Hummus Yossef /סלט לירז קטן",
          "ILS/Mevashlim & Pitzi Cafe /סלט סלק וסלרי",
          "USD/Mevashlim & Pitzi Cafe /סלט סלק וסלרי",
          "ILS/Hummus Kaspi /סלט עשבים",
          "ILS/Beta Cafe /סלט קינואה וסלמון",
          "USD/Mevashlim & Pitzi Cafe /סלט קינואה עדשים ורימונים",
          "ILS/Pizza Gronemann /סלט קפרזה",
          "ILS/Nono /סלט קרם רוקפור",
          "USD/Beta Cafe /סלט של קיץ",
          "ILS/Nono /סלמי כפרי",
          "ILS/Sui Sushi /סמוראי",
          "ILS/Nono /ספגטי בולונז",
          "USD/Nono /ספגטי בולונז",
          "ILS/Nono /ספייסי פפרוני",
          "USD/Nono /ספייסי פפרוני",
          "ILS/Sui Sushi /ספיישל סלמון",
          "ILS/Beta Cafe /עוגת גבינה",
          "ILS/Nono /פיצה מרגריטה ילדים",
          "USD/Nono /פיצה מרגריטה ילדים",
          "USD/Mevashlim & Pitzi Cafe /פלפלים ממולאים",
          "ILS/Beta Cafe /פסטה כבדי עוף",
          "USD/Beta Cafe /פסטה כבדי עוף",
          "EUR/Beta Cafe /פסטה עם נקניקיות",
          "ILS/Beta Cafe /פסטה עם נקניקיות",
          "USD/Beta Cafe /פסטה עם נקניקיות",
          "ILS/Miznon /פרח כרובית תינוק",
          "ILS/Mifgash Bar Lin/צ'יפס",
          "ILS/Pizza Gronemann /קוקה קולה",
          "ILS/Nono /קוקה קולה זירו",
          "USD/Nono /קוקה קולה זירו",
          "ILS/Sui Sushi /קוקה קולה זירו",
          "ILS/Mevashlim & Pitzi Cafe /קציצות בטטה",
          "ILS/Mevashlim & Pitzi Cafe /קציצות בקר",
          "USD/Mevashlim & Pitzi Cafe /קציצות בקר",
          "USD/Nono /רביולי גבינות",
          "ILS/JAPO /רול ויקינגי",
          "ILS/JAPO /רול סלמון צלוי",
          "ILS/Miznon /שורה בננות",
          "ILS/Mevashlim & Pitzi Cafe /שזיפים",
          "ILS/Beta Cafe /שיפודי סלמון",
          "USD/Beta Cafe /שיפודי סלמון",
          "EUR/Beta Cafe /שניצלוני עוף",
          "ILS/Beta Cafe /שניצלוני עוף",
          "USD/Beta Cafe /שניצלוני עוף",
          "ILS/Mevashlim & Pitzi Cafe /תבשיל בקר",
          "EUR/Miznon /תפוח אדמה שנדרס",
          "USD/Miznon /תפוח אדמה שנדרס",
          "ILS/Hummus Kaspi /‫2 כדורי פלאפל 🌱",
          "ILS/Mifgash Bar Lin/‫המבורגר אנגוס 220 גרם",
          "EUR/Beta Cafe /‫סכו״ם חד\"פ 🍴",
          "ILS/Beta Cafe /‫סכו״ם חד\"פ 🍴",
          "USD/Nono /‫סכו״ם חד\"פ 🍴",
          "ILS/Beta Cafe /‫סלט גדול טבעוני  🌱",
          "USD/Beta Cafe /‫סלט גדול טבעוני  🌱",
          "ILS/Hummus Kaspi /‫סלט ירקות קצוץ קטן 🌱",
          "ILS/Beta Cafe /‫פרי האדמה טבעוני 🌱",
          "EUR/FU Sushi/‫קומבינציה CRISPY",
          "ILS/Miznon /‫תוספת שורות של פיתה, טחינה וחריף 🌶 🥙",
          "EUR/Beta Cafe ",
          "ILS/Beta Cafe ",
          "USD/Beta Cafe ",
          "EUR/FU Sushi",
          "ILS/Golda ",
          "USD/Golda ",
          "ILS/Hummus Kaspi ",
          "ILS/Hummus Yossef ",
          "ILS/JAPO ",
          "ILS/Mevashlim & Pitzi Cafe ",
          "USD/Mevashlim & Pitzi Cafe ",
          "ILS/Mifgash Bar Lin",
          "EUR/Miznon ",
          "ILS/Miznon ",
          "USD/Miznon ",
          "ILS/Nono ",
          "USD/Nono ",
          "ILS/Pizza Gronemann ",
          "ILS/Sui Sushi ",
          "USD/Tatami",
          "ILS/The Showroom Bakehouse ",
          "EUR",
          "ILS",
          "USD"
         ],
         "labels": [
          "BLACK TIGER",
          "Quarantine Pack",
          "אורז עם גזר וצימוקים",
          "אורז עם גזר וצימוקים",
          "אינטימי בפיתה",
          "בול אטלנטי",
          "בטטה אפויה",
          "בטטה אפויה",
          "בירה שחורה נשר",
          "בראוניז",
          "גלידה 0,5 קילו",
          "גלידה 1 קילו",
          "המבורגר בקר",
          "זוג בראוניז",
          "חומוס בגביע",
          "חומוס כספי",
          "חציל רומני",
          "טאטאמי טמפורה",
          "טייגר רול",
          "כבד של תרנגולת בפיתה",
          "כבד של תרנגולת בפיתה",
          "כבדי עוף",
          "כבדי עוף",
          "כבדי עוף",
          "כתומה",
          "לביבות כרובית",
          "לביבות כרובית",
          "לזניה בקר",
          "לחם מימי",
          "מאקי חם",
          "מאקי סלמון אבוקדו",
          "מינוט סטייק בפיתה",
          "מינוט סטייק בפיתה",
          "מלאווח מגולגל",
          "מנסף עם בשר",
          "מסבחה",
          "מסבחה חומוס של העיר העתיקה",
          "מרגריטה",
          "מרגריטה",
          "ניוקי נאפולי",
          "ניוקי פולנטה פטריות🌾",
          "נקניקיות על פירה",
          "סאקה יאקי רול",
          "סביצ׳ה רול",
          "סושי סלק",
          "סלוניקי",
          "סלט בולגרית",
          "סלט גדול של ירקות ולאבנה",
          "סלט גדול של ירקות ולאבנה",
          "סלט ירוק",
          "סלט לירז קטן",
          "סלט סלק וסלרי",
          "סלט סלק וסלרי",
          "סלט עשבים",
          "סלט קינואה וסלמון",
          "סלט קינואה עדשים ורימונים",
          "סלט קפרזה",
          "סלט קרם רוקפור",
          "סלט של קיץ",
          "סלמי כפרי",
          "סמוראי",
          "ספגטי בולונז",
          "ספגטי בולונז",
          "ספייסי פפרוני",
          "ספייסי פפרוני",
          "ספיישל סלמון",
          "עוגת גבינה",
          "פיצה מרגריטה ילדים",
          "פיצה מרגריטה ילדים",
          "פלפלים ממולאים",
          "פסטה כבדי עוף",
          "פסטה כבדי עוף",
          "פסטה עם נקניקיות",
          "פסטה עם נקניקיות",
          "פסטה עם נקניקיות",
          "פרח כרובית תינוק",
          "צ'יפס",
          "קוקה קולה",
          "קוקה קולה זירו",
          "קוקה קולה זירו",
          "קוקה קולה זירו",
          "קציצות בטטה",
          "קציצות בקר",
          "קציצות בקר",
          "רביולי גבינות",
          "רול ויקינגי",
          "רול סלמון צלוי",
          "שורה בננות",
          "שזיפים",
          "שיפודי סלמון",
          "שיפודי סלמון",
          "שניצלוני עוף",
          "שניצלוני עוף",
          "שניצלוני עוף",
          "תבשיל בקר",
          "תפוח אדמה שנדרס",
          "תפוח אדמה שנדרס",
          "‫2 כדורי פלאפל 🌱",
          "‫המבורגר אנגוס 220 גרם",
          "‫סכו״ם חד\"פ 🍴",
          "‫סכו״ם חד\"פ 🍴",
          "‫סכו״ם חד\"פ 🍴",
          "‫סלט גדול טבעוני  🌱",
          "‫סלט גדול טבעוני  🌱",
          "‫סלט ירקות קצוץ קטן 🌱",
          "‫פרי האדמה טבעוני 🌱",
          "‫קומבינציה CRISPY",
          "‫תוספת שורות של פיתה, טחינה וחריף 🌶 🥙",
          "Beta Cafe ",
          "Beta Cafe ",
          "Beta Cafe ",
          "FU Sushi",
          "Golda ",
          "Golda ",
          "Hummus Kaspi ",
          "Hummus Yossef ",
          "JAPO ",
          "Mevashlim & Pitzi Cafe ",
          "Mevashlim & Pitzi Cafe ",
          "Mifgash Bar Lin",
          "Miznon ",
          "Miznon ",
          "Miznon ",
          "Nono ",
          "Nono ",
          "Pizza Gronemann ",
          "Sui Sushi ",
          "Tatami",
          "The Showroom Bakehouse ",
          "EUR",
          "ILS",
          "USD"
         ],
         "name": "",
         "parents": [
          "ILS/Sui Sushi ",
          "ILS/The Showroom Bakehouse ",
          "ILS/Mevashlim & Pitzi Cafe ",
          "USD/Mevashlim & Pitzi Cafe ",
          "ILS/Miznon ",
          "ILS/JAPO ",
          "ILS/Mevashlim & Pitzi Cafe ",
          "ILS/Miznon ",
          "ILS/Miznon ",
          "USD/Nono ",
          "ILS/Golda ",
          "USD/Golda ",
          "ILS/Mifgash Bar Lin",
          "USD/Mevashlim & Pitzi Cafe ",
          "ILS/Hummus Yossef ",
          "ILS/Hummus Kaspi ",
          "ILS/Mevashlim & Pitzi Cafe ",
          "USD/Tatami",
          "EUR/FU Sushi",
          "EUR/Miznon ",
          "USD/Miznon ",
          "EUR/Beta Cafe ",
          "ILS/Beta Cafe ",
          "USD/Beta Cafe ",
          "ILS/Pizza Gronemann ",
          "EUR/Beta Cafe ",
          "ILS/Beta Cafe ",
          "ILS/Mevashlim & Pitzi Cafe ",
          "USD/Nono ",
          "USD/Tatami",
          "USD/Tatami",
          "ILS/Miznon ",
          "USD/Miznon ",
          "ILS/Hummus Kaspi ",
          "ILS/Hummus Yossef ",
          "ILS/Hummus Kaspi ",
          "USD/Miznon ",
          "ILS/Nono ",
          "ILS/Pizza Gronemann ",
          "ILS/Nono ",
          "ILS/Nono ",
          "ILS/Beta Cafe ",
          "EUR/FU Sushi",
          "ILS/Sui Sushi ",
          "USD/Tatami",
          "ILS/Nono ",
          "ILS/Nono ",
          "ILS/Beta Cafe ",
          "USD/Beta Cafe ",
          "ILS/Nono ",
          "ILS/Hummus Yossef ",
          "ILS/Mevashlim & Pitzi Cafe ",
          "USD/Mevashlim & Pitzi Cafe ",
          "ILS/Hummus Kaspi ",
          "ILS/Beta Cafe ",
          "USD/Mevashlim & Pitzi Cafe ",
          "ILS/Pizza Gronemann ",
          "ILS/Nono ",
          "USD/Beta Cafe ",
          "ILS/Nono ",
          "ILS/Sui Sushi ",
          "ILS/Nono ",
          "USD/Nono ",
          "ILS/Nono ",
          "USD/Nono ",
          "ILS/Sui Sushi ",
          "ILS/Beta Cafe ",
          "ILS/Nono ",
          "USD/Nono ",
          "USD/Mevashlim & Pitzi Cafe ",
          "ILS/Beta Cafe ",
          "USD/Beta Cafe ",
          "EUR/Beta Cafe ",
          "ILS/Beta Cafe ",
          "USD/Beta Cafe ",
          "ILS/Miznon ",
          "ILS/Mifgash Bar Lin",
          "ILS/Pizza Gronemann ",
          "ILS/Nono ",
          "USD/Nono ",
          "ILS/Sui Sushi ",
          "ILS/Mevashlim & Pitzi Cafe ",
          "ILS/Mevashlim & Pitzi Cafe ",
          "USD/Mevashlim & Pitzi Cafe ",
          "USD/Nono ",
          "ILS/JAPO ",
          "ILS/JAPO ",
          "ILS/Miznon ",
          "ILS/Mevashlim & Pitzi Cafe ",
          "ILS/Beta Cafe ",
          "USD/Beta Cafe ",
          "EUR/Beta Cafe ",
          "ILS/Beta Cafe ",
          "USD/Beta Cafe ",
          "ILS/Mevashlim & Pitzi Cafe ",
          "EUR/Miznon ",
          "USD/Miznon ",
          "ILS/Hummus Kaspi ",
          "ILS/Mifgash Bar Lin",
          "EUR/Beta Cafe ",
          "ILS/Beta Cafe ",
          "USD/Nono ",
          "ILS/Beta Cafe ",
          "USD/Beta Cafe ",
          "ILS/Hummus Kaspi ",
          "ILS/Beta Cafe ",
          "EUR/FU Sushi",
          "ILS/Miznon ",
          "EUR",
          "ILS",
          "USD",
          "EUR",
          "ILS",
          "USD",
          "ILS",
          "ILS",
          "ILS",
          "ILS",
          "USD",
          "ILS",
          "EUR",
          "ILS",
          "USD",
          "ILS",
          "USD",
          "ILS",
          "ILS",
          "USD",
          "ILS",
          "",
          "",
          ""
         ],
         "texttemplate": "%{label} = %{value}",
         "type": "treemap",
         "values": [
          44,
          158,
          18,
          18,
          88,
          98,
          16,
          27,
          12,
          29,
          68,
          110,
          50,
          32,
          33,
          33,
          22,
          47,
          60,
          39,
          78,
          136,
          136,
          204,
          84,
          48,
          48,
          58,
          25,
          34,
          34,
          58,
          52,
          26,
          49,
          33,
          37,
          288,
          75,
          112,
          61,
          136,
          64,
          43,
          48,
          136,
          52,
          156,
          54,
          104,
          22,
          48,
          24,
          35,
          62,
          34,
          42,
          54,
          56,
          72,
          43,
          76,
          76,
          994,
          71,
          43,
          38,
          150,
          38,
          56,
          1600,
          320,
          66,
          726,
          132,
          42,
          23,
          11,
          104,
          13,
          12,
          36,
          56,
          56,
          62,
          52,
          153,
          22,
          82,
          44,
          44,
          38,
          38,
          88,
          128,
          24,
          48,
          15,
          45,
          0,
          0,
          0,
          350,
          150,
          16,
          104,
          96,
          6,
          288,
          3438,
          1048,
          220,
          68,
          110,
          158,
          104,
          303,
          464,
          220,
          118,
          63,
          255,
          215,
          2203,
          314,
          212,
          185,
          163,
          158,
          571,
          7666,
          2070
         ]
        }
       ],
       "layout": {
        "legend": {
         "tracegroupgap": 0
        },
        "margin": {
         "b": 10,
         "l": 10,
         "r": 10,
         "t": 10
        },
        "template": {
         "data": {
          "bar": [
           {
            "error_x": {
             "color": "#2a3f5f"
            },
            "error_y": {
             "color": "#2a3f5f"
            },
            "marker": {
             "line": {
              "color": "#E5ECF6",
              "width": 0.5
             },
             "pattern": {
              "fillmode": "overlay",
              "size": 10,
              "solidity": 0.2
             }
            },
            "type": "bar"
           }
          ],
          "barpolar": [
           {
            "marker": {
             "line": {
              "color": "#E5ECF6",
              "width": 0.5
             },
             "pattern": {
              "fillmode": "overlay",
              "size": 10,
              "solidity": 0.2
             }
            },
            "type": "barpolar"
           }
          ],
          "carpet": [
           {
            "aaxis": {
             "endlinecolor": "#2a3f5f",
             "gridcolor": "white",
             "linecolor": "white",
             "minorgridcolor": "white",
             "startlinecolor": "#2a3f5f"
            },
            "baxis": {
             "endlinecolor": "#2a3f5f",
             "gridcolor": "white",
             "linecolor": "white",
             "minorgridcolor": "white",
             "startlinecolor": "#2a3f5f"
            },
            "type": "carpet"
           }
          ],
          "choropleth": [
           {
            "colorbar": {
             "outlinewidth": 0,
             "ticks": ""
            },
            "type": "choropleth"
           }
          ],
          "contour": [
           {
            "colorbar": {
             "outlinewidth": 0,
             "ticks": ""
            },
            "colorscale": [
             [
              0,
              "#0d0887"
             ],
             [
              0.1111111111111111,
              "#46039f"
             ],
             [
              0.2222222222222222,
              "#7201a8"
             ],
             [
              0.3333333333333333,
              "#9c179e"
             ],
             [
              0.4444444444444444,
              "#bd3786"
             ],
             [
              0.5555555555555556,
              "#d8576b"
             ],
             [
              0.6666666666666666,
              "#ed7953"
             ],
             [
              0.7777777777777778,
              "#fb9f3a"
             ],
             [
              0.8888888888888888,
              "#fdca26"
             ],
             [
              1,
              "#f0f921"
             ]
            ],
            "type": "contour"
           }
          ],
          "contourcarpet": [
           {
            "colorbar": {
             "outlinewidth": 0,
             "ticks": ""
            },
            "type": "contourcarpet"
           }
          ],
          "heatmap": [
           {
            "colorbar": {
             "outlinewidth": 0,
             "ticks": ""
            },
            "colorscale": [
             [
              0,
              "#0d0887"
             ],
             [
              0.1111111111111111,
              "#46039f"
             ],
             [
              0.2222222222222222,
              "#7201a8"
             ],
             [
              0.3333333333333333,
              "#9c179e"
             ],
             [
              0.4444444444444444,
              "#bd3786"
             ],
             [
              0.5555555555555556,
              "#d8576b"
             ],
             [
              0.6666666666666666,
              "#ed7953"
             ],
             [
              0.7777777777777778,
              "#fb9f3a"
             ],
             [
              0.8888888888888888,
              "#fdca26"
             ],
             [
              1,
              "#f0f921"
             ]
            ],
            "type": "heatmap"
           }
          ],
          "heatmapgl": [
           {
            "colorbar": {
             "outlinewidth": 0,
             "ticks": ""
            },
            "colorscale": [
             [
              0,
              "#0d0887"
             ],
             [
              0.1111111111111111,
              "#46039f"
             ],
             [
              0.2222222222222222,
              "#7201a8"
             ],
             [
              0.3333333333333333,
              "#9c179e"
             ],
             [
              0.4444444444444444,
              "#bd3786"
             ],
             [
              0.5555555555555556,
              "#d8576b"
             ],
             [
              0.6666666666666666,
              "#ed7953"
             ],
             [
              0.7777777777777778,
              "#fb9f3a"
             ],
             [
              0.8888888888888888,
              "#fdca26"
             ],
             [
              1,
              "#f0f921"
             ]
            ],
            "type": "heatmapgl"
           }
          ],
          "histogram": [
           {
            "marker": {
             "pattern": {
              "fillmode": "overlay",
              "size": 10,
              "solidity": 0.2
             }
            },
            "type": "histogram"
           }
          ],
          "histogram2d": [
           {
            "colorbar": {
             "outlinewidth": 0,
             "ticks": ""
            },
            "colorscale": [
             [
              0,
              "#0d0887"
             ],
             [
              0.1111111111111111,
              "#46039f"
             ],
             [
              0.2222222222222222,
              "#7201a8"
             ],
             [
              0.3333333333333333,
              "#9c179e"
             ],
             [
              0.4444444444444444,
              "#bd3786"
             ],
             [
              0.5555555555555556,
              "#d8576b"
             ],
             [
              0.6666666666666666,
              "#ed7953"
             ],
             [
              0.7777777777777778,
              "#fb9f3a"
             ],
             [
              0.8888888888888888,
              "#fdca26"
             ],
             [
              1,
              "#f0f921"
             ]
            ],
            "type": "histogram2d"
           }
          ],
          "histogram2dcontour": [
           {
            "colorbar": {
             "outlinewidth": 0,
             "ticks": ""
            },
            "colorscale": [
             [
              0,
              "#0d0887"
             ],
             [
              0.1111111111111111,
              "#46039f"
             ],
             [
              0.2222222222222222,
              "#7201a8"
             ],
             [
              0.3333333333333333,
              "#9c179e"
             ],
             [
              0.4444444444444444,
              "#bd3786"
             ],
             [
              0.5555555555555556,
              "#d8576b"
             ],
             [
              0.6666666666666666,
              "#ed7953"
             ],
             [
              0.7777777777777778,
              "#fb9f3a"
             ],
             [
              0.8888888888888888,
              "#fdca26"
             ],
             [
              1,
              "#f0f921"
             ]
            ],
            "type": "histogram2dcontour"
           }
          ],
          "mesh3d": [
           {
            "colorbar": {
             "outlinewidth": 0,
             "ticks": ""
            },
            "type": "mesh3d"
           }
          ],
          "parcoords": [
           {
            "line": {
             "colorbar": {
              "outlinewidth": 0,
              "ticks": ""
             }
            },
            "type": "parcoords"
           }
          ],
          "pie": [
           {
            "automargin": true,
            "type": "pie"
           }
          ],
          "scatter": [
           {
            "marker": {
             "colorbar": {
              "outlinewidth": 0,
              "ticks": ""
             }
            },
            "type": "scatter"
           }
          ],
          "scatter3d": [
           {
            "line": {
             "colorbar": {
              "outlinewidth": 0,
              "ticks": ""
             }
            },
            "marker": {
             "colorbar": {
              "outlinewidth": 0,
              "ticks": ""
             }
            },
            "type": "scatter3d"
           }
          ],
          "scattercarpet": [
           {
            "marker": {
             "colorbar": {
              "outlinewidth": 0,
              "ticks": ""
             }
            },
            "type": "scattercarpet"
           }
          ],
          "scattergeo": [
           {
            "marker": {
             "colorbar": {
              "outlinewidth": 0,
              "ticks": ""
             }
            },
            "type": "scattergeo"
           }
          ],
          "scattergl": [
           {
            "marker": {
             "colorbar": {
              "outlinewidth": 0,
              "ticks": ""
             }
            },
            "type": "scattergl"
           }
          ],
          "scattermapbox": [
           {
            "marker": {
             "colorbar": {
              "outlinewidth": 0,
              "ticks": ""
             }
            },
            "type": "scattermapbox"
           }
          ],
          "scatterpolar": [
           {
            "marker": {
             "colorbar": {
              "outlinewidth": 0,
              "ticks": ""
             }
            },
            "type": "scatterpolar"
           }
          ],
          "scatterpolargl": [
           {
            "marker": {
             "colorbar": {
              "outlinewidth": 0,
              "ticks": ""
             }
            },
            "type": "scatterpolargl"
           }
          ],
          "scatterternary": [
           {
            "marker": {
             "colorbar": {
              "outlinewidth": 0,
              "ticks": ""
             }
            },
            "type": "scatterternary"
           }
          ],
          "surface": [
           {
            "colorbar": {
             "outlinewidth": 0,
             "ticks": ""
            },
            "colorscale": [
             [
              0,
              "#0d0887"
             ],
             [
              0.1111111111111111,
              "#46039f"
             ],
             [
              0.2222222222222222,
              "#7201a8"
             ],
             [
              0.3333333333333333,
              "#9c179e"
             ],
             [
              0.4444444444444444,
              "#bd3786"
             ],
             [
              0.5555555555555556,
              "#d8576b"
             ],
             [
              0.6666666666666666,
              "#ed7953"
             ],
             [
              0.7777777777777778,
              "#fb9f3a"
             ],
             [
              0.8888888888888888,
              "#fdca26"
             ],
             [
              1,
              "#f0f921"
             ]
            ],
            "type": "surface"
           }
          ],
          "table": [
           {
            "cells": {
             "fill": {
              "color": "#EBF0F8"
             },
             "line": {
              "color": "white"
             }
            },
            "header": {
             "fill": {
              "color": "#C8D4E3"
             },
             "line": {
              "color": "white"
             }
            },
            "type": "table"
           }
          ]
         },
         "layout": {
          "annotationdefaults": {
           "arrowcolor": "#2a3f5f",
           "arrowhead": 0,
           "arrowwidth": 1
          },
          "autotypenumbers": "strict",
          "coloraxis": {
           "colorbar": {
            "outlinewidth": 0,
            "ticks": ""
           }
          },
          "colorscale": {
           "diverging": [
            [
             0,
             "#8e0152"
            ],
            [
             0.1,
             "#c51b7d"
            ],
            [
             0.2,
             "#de77ae"
            ],
            [
             0.3,
             "#f1b6da"
            ],
            [
             0.4,
             "#fde0ef"
            ],
            [
             0.5,
             "#f7f7f7"
            ],
            [
             0.6,
             "#e6f5d0"
            ],
            [
             0.7,
             "#b8e186"
            ],
            [
             0.8,
             "#7fbc41"
            ],
            [
             0.9,
             "#4d9221"
            ],
            [
             1,
             "#276419"
            ]
           ],
           "sequential": [
            [
             0,
             "#0d0887"
            ],
            [
             0.1111111111111111,
             "#46039f"
            ],
            [
             0.2222222222222222,
             "#7201a8"
            ],
            [
             0.3333333333333333,
             "#9c179e"
            ],
            [
             0.4444444444444444,
             "#bd3786"
            ],
            [
             0.5555555555555556,
             "#d8576b"
            ],
            [
             0.6666666666666666,
             "#ed7953"
            ],
            [
             0.7777777777777778,
             "#fb9f3a"
            ],
            [
             0.8888888888888888,
             "#fdca26"
            ],
            [
             1,
             "#f0f921"
            ]
           ],
           "sequentialminus": [
            [
             0,
             "#0d0887"
            ],
            [
             0.1111111111111111,
             "#46039f"
            ],
            [
             0.2222222222222222,
             "#7201a8"
            ],
            [
             0.3333333333333333,
             "#9c179e"
            ],
            [
             0.4444444444444444,
             "#bd3786"
            ],
            [
             0.5555555555555556,
             "#d8576b"
            ],
            [
             0.6666666666666666,
             "#ed7953"
            ],
            [
             0.7777777777777778,
             "#fb9f3a"
            ],
            [
             0.8888888888888888,
             "#fdca26"
            ],
            [
             1,
             "#f0f921"
            ]
           ]
          },
          "colorway": [
           "#636efa",
           "#EF553B",
           "#00cc96",
           "#ab63fa",
           "#FFA15A",
           "#19d3f3",
           "#FF6692",
           "#B6E880",
           "#FF97FF",
           "#FECB52"
          ],
          "font": {
           "color": "#2a3f5f"
          },
          "geo": {
           "bgcolor": "white",
           "lakecolor": "white",
           "landcolor": "#E5ECF6",
           "showlakes": true,
           "showland": true,
           "subunitcolor": "white"
          },
          "hoverlabel": {
           "align": "left"
          },
          "hovermode": "closest",
          "mapbox": {
           "style": "light"
          },
          "paper_bgcolor": "white",
          "plot_bgcolor": "#E5ECF6",
          "polar": {
           "angularaxis": {
            "gridcolor": "white",
            "linecolor": "white",
            "ticks": ""
           },
           "bgcolor": "#E5ECF6",
           "radialaxis": {
            "gridcolor": "white",
            "linecolor": "white",
            "ticks": ""
           }
          },
          "scene": {
           "xaxis": {
            "backgroundcolor": "#E5ECF6",
            "gridcolor": "white",
            "gridwidth": 2,
            "linecolor": "white",
            "showbackground": true,
            "ticks": "",
            "zerolinecolor": "white"
           },
           "yaxis": {
            "backgroundcolor": "#E5ECF6",
            "gridcolor": "white",
            "gridwidth": 2,
            "linecolor": "white",
            "showbackground": true,
            "ticks": "",
            "zerolinecolor": "white"
           },
           "zaxis": {
            "backgroundcolor": "#E5ECF6",
            "gridcolor": "white",
            "gridwidth": 2,
            "linecolor": "white",
            "showbackground": true,
            "ticks": "",
            "zerolinecolor": "white"
           }
          },
          "shapedefaults": {
           "line": {
            "color": "#2a3f5f"
           }
          },
          "ternary": {
           "aaxis": {
            "gridcolor": "white",
            "linecolor": "white",
            "ticks": ""
           },
           "baxis": {
            "gridcolor": "white",
            "linecolor": "white",
            "ticks": ""
           },
           "bgcolor": "#E5ECF6",
           "caxis": {
            "gridcolor": "white",
            "linecolor": "white",
            "ticks": ""
           }
          },
          "title": {
           "x": 0.05
          },
          "xaxis": {
           "automargin": true,
           "gridcolor": "white",
           "linecolor": "white",
           "ticks": "",
           "title": {
            "standoff": 15
           },
           "zerolinecolor": "white",
           "zerolinewidth": 2
          },
          "yaxis": {
           "automargin": true,
           "gridcolor": "white",
           "linecolor": "white",
           "ticks": "",
           "title": {
            "standoff": 15
           },
           "zerolinecolor": "white",
           "zerolinewidth": 2
          }
         }
        }
       }
      }
     },
     "metadata": {},
     "output_type": "display_data"
    }
   ],
   "source": [
    "everything = items.groupby(['currency', 'venue_name_fixed', 'item_name']).agg(\n",
    "    {\"item_total_price\": lambda x: np.sum(x)/100}).reset_index()\n",
    "\n",
    "fig = px.treemap(everything, path=['currency','venue_name_fixed', 'item_name'], values=('item_total_price'))\n",
    "fig.update_traces(texttemplate='%{label} = %{value}')\n",
    "fig.update_layout(margin=dict(t=10, l=10, r=10, b=10))\n"
   ]
  },
  {
   "cell_type": "code",
   "execution_count": 339,
   "metadata": {},
   "outputs": [
    {
     "data": {
      "application/vnd.plotly.v1+json": {
       "config": {
        "plotlyServerURL": "https://plot.ly"
       },
       "data": [
        {
         "alignmentgroup": "True",
         "hovertemplate": "currency=EUR<br>Month=%{x}<br>total_price=%{y}<extra></extra>",
         "legendgroup": "EUR",
         "marker": {
          "color": "#636efa",
          "pattern": {
           "shape": ""
          }
         },
         "name": "EUR",
         "offsetgroup": "EUR",
         "orientation": "v",
         "showlegend": true,
         "textposition": "auto",
         "texttemplate": "%{y}",
         "type": "bar",
         "x": [
          "2021-12"
         ],
         "xaxis": "x",
         "y": [
          671
         ],
         "yaxis": "y"
        },
        {
         "alignmentgroup": "True",
         "hovertemplate": "currency=ILS<br>Month=%{x}<br>total_price=%{y}<extra></extra>",
         "legendgroup": "ILS",
         "marker": {
          "color": "#EF553B",
          "pattern": {
           "shape": ""
          }
         },
         "name": "ILS",
         "offsetgroup": "ILS",
         "orientation": "v",
         "showlegend": true,
         "textposition": "auto",
         "texttemplate": "%{y}",
         "type": "bar",
         "x": [
          "2021-01",
          "2021-02",
          "2021-03",
          "2021-04",
          "2021-05",
          "2021-06",
          "2021-07",
          "2021-08",
          "2021-09",
          "2021-10",
          "2021-11"
         ],
         "xaxis": "x",
         "y": [
          1232,
          973,
          1181,
          747,
          160,
          412,
          1359,
          1497,
          694,
          283,
          425
         ],
         "yaxis": "y"
        },
        {
         "alignmentgroup": "True",
         "hovertemplate": "currency=USD<br>Month=%{x}<br>total_price=%{y}<extra></extra>",
         "legendgroup": "USD",
         "marker": {
          "color": "#00cc96",
          "pattern": {
           "shape": ""
          }
         },
         "name": "USD",
         "offsetgroup": "USD",
         "orientation": "v",
         "showlegend": true,
         "textposition": "auto",
         "texttemplate": "%{y}",
         "type": "bar",
         "x": [
          "2021-09",
          "2021-10",
          "2021-11",
          "2021-12"
         ],
         "xaxis": "x",
         "y": [
          322,
          667,
          1131,
          212
         ],
         "yaxis": "y"
        }
       ],
       "layout": {
        "barmode": "group",
        "legend": {
         "title": {
          "text": "currency"
         },
         "tracegroupgap": 0
        },
        "showlegend": false,
        "template": {
         "data": {
          "bar": [
           {
            "error_x": {
             "color": "#2a3f5f"
            },
            "error_y": {
             "color": "#2a3f5f"
            },
            "marker": {
             "line": {
              "color": "#E5ECF6",
              "width": 0.5
             },
             "pattern": {
              "fillmode": "overlay",
              "size": 10,
              "solidity": 0.2
             }
            },
            "type": "bar"
           }
          ],
          "barpolar": [
           {
            "marker": {
             "line": {
              "color": "#E5ECF6",
              "width": 0.5
             },
             "pattern": {
              "fillmode": "overlay",
              "size": 10,
              "solidity": 0.2
             }
            },
            "type": "barpolar"
           }
          ],
          "carpet": [
           {
            "aaxis": {
             "endlinecolor": "#2a3f5f",
             "gridcolor": "white",
             "linecolor": "white",
             "minorgridcolor": "white",
             "startlinecolor": "#2a3f5f"
            },
            "baxis": {
             "endlinecolor": "#2a3f5f",
             "gridcolor": "white",
             "linecolor": "white",
             "minorgridcolor": "white",
             "startlinecolor": "#2a3f5f"
            },
            "type": "carpet"
           }
          ],
          "choropleth": [
           {
            "colorbar": {
             "outlinewidth": 0,
             "ticks": ""
            },
            "type": "choropleth"
           }
          ],
          "contour": [
           {
            "colorbar": {
             "outlinewidth": 0,
             "ticks": ""
            },
            "colorscale": [
             [
              0,
              "#0d0887"
             ],
             [
              0.1111111111111111,
              "#46039f"
             ],
             [
              0.2222222222222222,
              "#7201a8"
             ],
             [
              0.3333333333333333,
              "#9c179e"
             ],
             [
              0.4444444444444444,
              "#bd3786"
             ],
             [
              0.5555555555555556,
              "#d8576b"
             ],
             [
              0.6666666666666666,
              "#ed7953"
             ],
             [
              0.7777777777777778,
              "#fb9f3a"
             ],
             [
              0.8888888888888888,
              "#fdca26"
             ],
             [
              1,
              "#f0f921"
             ]
            ],
            "type": "contour"
           }
          ],
          "contourcarpet": [
           {
            "colorbar": {
             "outlinewidth": 0,
             "ticks": ""
            },
            "type": "contourcarpet"
           }
          ],
          "heatmap": [
           {
            "colorbar": {
             "outlinewidth": 0,
             "ticks": ""
            },
            "colorscale": [
             [
              0,
              "#0d0887"
             ],
             [
              0.1111111111111111,
              "#46039f"
             ],
             [
              0.2222222222222222,
              "#7201a8"
             ],
             [
              0.3333333333333333,
              "#9c179e"
             ],
             [
              0.4444444444444444,
              "#bd3786"
             ],
             [
              0.5555555555555556,
              "#d8576b"
             ],
             [
              0.6666666666666666,
              "#ed7953"
             ],
             [
              0.7777777777777778,
              "#fb9f3a"
             ],
             [
              0.8888888888888888,
              "#fdca26"
             ],
             [
              1,
              "#f0f921"
             ]
            ],
            "type": "heatmap"
           }
          ],
          "heatmapgl": [
           {
            "colorbar": {
             "outlinewidth": 0,
             "ticks": ""
            },
            "colorscale": [
             [
              0,
              "#0d0887"
             ],
             [
              0.1111111111111111,
              "#46039f"
             ],
             [
              0.2222222222222222,
              "#7201a8"
             ],
             [
              0.3333333333333333,
              "#9c179e"
             ],
             [
              0.4444444444444444,
              "#bd3786"
             ],
             [
              0.5555555555555556,
              "#d8576b"
             ],
             [
              0.6666666666666666,
              "#ed7953"
             ],
             [
              0.7777777777777778,
              "#fb9f3a"
             ],
             [
              0.8888888888888888,
              "#fdca26"
             ],
             [
              1,
              "#f0f921"
             ]
            ],
            "type": "heatmapgl"
           }
          ],
          "histogram": [
           {
            "marker": {
             "pattern": {
              "fillmode": "overlay",
              "size": 10,
              "solidity": 0.2
             }
            },
            "type": "histogram"
           }
          ],
          "histogram2d": [
           {
            "colorbar": {
             "outlinewidth": 0,
             "ticks": ""
            },
            "colorscale": [
             [
              0,
              "#0d0887"
             ],
             [
              0.1111111111111111,
              "#46039f"
             ],
             [
              0.2222222222222222,
              "#7201a8"
             ],
             [
              0.3333333333333333,
              "#9c179e"
             ],
             [
              0.4444444444444444,
              "#bd3786"
             ],
             [
              0.5555555555555556,
              "#d8576b"
             ],
             [
              0.6666666666666666,
              "#ed7953"
             ],
             [
              0.7777777777777778,
              "#fb9f3a"
             ],
             [
              0.8888888888888888,
              "#fdca26"
             ],
             [
              1,
              "#f0f921"
             ]
            ],
            "type": "histogram2d"
           }
          ],
          "histogram2dcontour": [
           {
            "colorbar": {
             "outlinewidth": 0,
             "ticks": ""
            },
            "colorscale": [
             [
              0,
              "#0d0887"
             ],
             [
              0.1111111111111111,
              "#46039f"
             ],
             [
              0.2222222222222222,
              "#7201a8"
             ],
             [
              0.3333333333333333,
              "#9c179e"
             ],
             [
              0.4444444444444444,
              "#bd3786"
             ],
             [
              0.5555555555555556,
              "#d8576b"
             ],
             [
              0.6666666666666666,
              "#ed7953"
             ],
             [
              0.7777777777777778,
              "#fb9f3a"
             ],
             [
              0.8888888888888888,
              "#fdca26"
             ],
             [
              1,
              "#f0f921"
             ]
            ],
            "type": "histogram2dcontour"
           }
          ],
          "mesh3d": [
           {
            "colorbar": {
             "outlinewidth": 0,
             "ticks": ""
            },
            "type": "mesh3d"
           }
          ],
          "parcoords": [
           {
            "line": {
             "colorbar": {
              "outlinewidth": 0,
              "ticks": ""
             }
            },
            "type": "parcoords"
           }
          ],
          "pie": [
           {
            "automargin": true,
            "type": "pie"
           }
          ],
          "scatter": [
           {
            "marker": {
             "colorbar": {
              "outlinewidth": 0,
              "ticks": ""
             }
            },
            "type": "scatter"
           }
          ],
          "scatter3d": [
           {
            "line": {
             "colorbar": {
              "outlinewidth": 0,
              "ticks": ""
             }
            },
            "marker": {
             "colorbar": {
              "outlinewidth": 0,
              "ticks": ""
             }
            },
            "type": "scatter3d"
           }
          ],
          "scattercarpet": [
           {
            "marker": {
             "colorbar": {
              "outlinewidth": 0,
              "ticks": ""
             }
            },
            "type": "scattercarpet"
           }
          ],
          "scattergeo": [
           {
            "marker": {
             "colorbar": {
              "outlinewidth": 0,
              "ticks": ""
             }
            },
            "type": "scattergeo"
           }
          ],
          "scattergl": [
           {
            "marker": {
             "colorbar": {
              "outlinewidth": 0,
              "ticks": ""
             }
            },
            "type": "scattergl"
           }
          ],
          "scattermapbox": [
           {
            "marker": {
             "colorbar": {
              "outlinewidth": 0,
              "ticks": ""
             }
            },
            "type": "scattermapbox"
           }
          ],
          "scatterpolar": [
           {
            "marker": {
             "colorbar": {
              "outlinewidth": 0,
              "ticks": ""
             }
            },
            "type": "scatterpolar"
           }
          ],
          "scatterpolargl": [
           {
            "marker": {
             "colorbar": {
              "outlinewidth": 0,
              "ticks": ""
             }
            },
            "type": "scatterpolargl"
           }
          ],
          "scatterternary": [
           {
            "marker": {
             "colorbar": {
              "outlinewidth": 0,
              "ticks": ""
             }
            },
            "type": "scatterternary"
           }
          ],
          "surface": [
           {
            "colorbar": {
             "outlinewidth": 0,
             "ticks": ""
            },
            "colorscale": [
             [
              0,
              "#0d0887"
             ],
             [
              0.1111111111111111,
              "#46039f"
             ],
             [
              0.2222222222222222,
              "#7201a8"
             ],
             [
              0.3333333333333333,
              "#9c179e"
             ],
             [
              0.4444444444444444,
              "#bd3786"
             ],
             [
              0.5555555555555556,
              "#d8576b"
             ],
             [
              0.6666666666666666,
              "#ed7953"
             ],
             [
              0.7777777777777778,
              "#fb9f3a"
             ],
             [
              0.8888888888888888,
              "#fdca26"
             ],
             [
              1,
              "#f0f921"
             ]
            ],
            "type": "surface"
           }
          ],
          "table": [
           {
            "cells": {
             "fill": {
              "color": "#EBF0F8"
             },
             "line": {
              "color": "white"
             }
            },
            "header": {
             "fill": {
              "color": "#C8D4E3"
             },
             "line": {
              "color": "white"
             }
            },
            "type": "table"
           }
          ]
         },
         "layout": {
          "annotationdefaults": {
           "arrowcolor": "#2a3f5f",
           "arrowhead": 0,
           "arrowwidth": 1
          },
          "autotypenumbers": "strict",
          "coloraxis": {
           "colorbar": {
            "outlinewidth": 0,
            "ticks": ""
           }
          },
          "colorscale": {
           "diverging": [
            [
             0,
             "#8e0152"
            ],
            [
             0.1,
             "#c51b7d"
            ],
            [
             0.2,
             "#de77ae"
            ],
            [
             0.3,
             "#f1b6da"
            ],
            [
             0.4,
             "#fde0ef"
            ],
            [
             0.5,
             "#f7f7f7"
            ],
            [
             0.6,
             "#e6f5d0"
            ],
            [
             0.7,
             "#b8e186"
            ],
            [
             0.8,
             "#7fbc41"
            ],
            [
             0.9,
             "#4d9221"
            ],
            [
             1,
             "#276419"
            ]
           ],
           "sequential": [
            [
             0,
             "#0d0887"
            ],
            [
             0.1111111111111111,
             "#46039f"
            ],
            [
             0.2222222222222222,
             "#7201a8"
            ],
            [
             0.3333333333333333,
             "#9c179e"
            ],
            [
             0.4444444444444444,
             "#bd3786"
            ],
            [
             0.5555555555555556,
             "#d8576b"
            ],
            [
             0.6666666666666666,
             "#ed7953"
            ],
            [
             0.7777777777777778,
             "#fb9f3a"
            ],
            [
             0.8888888888888888,
             "#fdca26"
            ],
            [
             1,
             "#f0f921"
            ]
           ],
           "sequentialminus": [
            [
             0,
             "#0d0887"
            ],
            [
             0.1111111111111111,
             "#46039f"
            ],
            [
             0.2222222222222222,
             "#7201a8"
            ],
            [
             0.3333333333333333,
             "#9c179e"
            ],
            [
             0.4444444444444444,
             "#bd3786"
            ],
            [
             0.5555555555555556,
             "#d8576b"
            ],
            [
             0.6666666666666666,
             "#ed7953"
            ],
            [
             0.7777777777777778,
             "#fb9f3a"
            ],
            [
             0.8888888888888888,
             "#fdca26"
            ],
            [
             1,
             "#f0f921"
            ]
           ]
          },
          "colorway": [
           "#636efa",
           "#EF553B",
           "#00cc96",
           "#ab63fa",
           "#FFA15A",
           "#19d3f3",
           "#FF6692",
           "#B6E880",
           "#FF97FF",
           "#FECB52"
          ],
          "font": {
           "color": "#2a3f5f"
          },
          "geo": {
           "bgcolor": "white",
           "lakecolor": "white",
           "landcolor": "#E5ECF6",
           "showlakes": true,
           "showland": true,
           "subunitcolor": "white"
          },
          "hoverlabel": {
           "align": "left"
          },
          "hovermode": "closest",
          "mapbox": {
           "style": "light"
          },
          "paper_bgcolor": "white",
          "plot_bgcolor": "#E5ECF6",
          "polar": {
           "angularaxis": {
            "gridcolor": "white",
            "linecolor": "white",
            "ticks": ""
           },
           "bgcolor": "#E5ECF6",
           "radialaxis": {
            "gridcolor": "white",
            "linecolor": "white",
            "ticks": ""
           }
          },
          "scene": {
           "xaxis": {
            "backgroundcolor": "#E5ECF6",
            "gridcolor": "white",
            "gridwidth": 2,
            "linecolor": "white",
            "showbackground": true,
            "ticks": "",
            "zerolinecolor": "white"
           },
           "yaxis": {
            "backgroundcolor": "#E5ECF6",
            "gridcolor": "white",
            "gridwidth": 2,
            "linecolor": "white",
            "showbackground": true,
            "ticks": "",
            "zerolinecolor": "white"
           },
           "zaxis": {
            "backgroundcolor": "#E5ECF6",
            "gridcolor": "white",
            "gridwidth": 2,
            "linecolor": "white",
            "showbackground": true,
            "ticks": "",
            "zerolinecolor": "white"
           }
          },
          "shapedefaults": {
           "line": {
            "color": "#2a3f5f"
           }
          },
          "ternary": {
           "aaxis": {
            "gridcolor": "white",
            "linecolor": "white",
            "ticks": ""
           },
           "baxis": {
            "gridcolor": "white",
            "linecolor": "white",
            "ticks": ""
           },
           "bgcolor": "#E5ECF6",
           "caxis": {
            "gridcolor": "white",
            "linecolor": "white",
            "ticks": ""
           }
          },
          "title": {
           "x": 0.05
          },
          "xaxis": {
           "automargin": true,
           "gridcolor": "white",
           "linecolor": "white",
           "ticks": "",
           "title": {
            "standoff": 15
           },
           "zerolinecolor": "white",
           "zerolinewidth": 2
          },
          "yaxis": {
           "automargin": true,
           "gridcolor": "white",
           "linecolor": "white",
           "ticks": "",
           "title": {
            "standoff": 15
           },
           "zerolinecolor": "white",
           "zerolinewidth": 2
          }
         }
        },
        "title": {
         "text": "Monthly Expenses"
        },
        "xaxis": {
         "anchor": "y",
         "domain": [
          0,
          1
         ],
         "tickangle": 30,
         "title": {
          "text": "Month"
         }
        },
        "yaxis": {
         "anchor": "x",
         "domain": [
          0,
          1
         ],
         "title": {
          "text": "total_price"
         }
        }
       }
      }
     },
     "metadata": {},
     "output_type": "display_data"
    }
   ],
   "source": [
    "chart = px.bar(monthly, title=\"Monthly Expenses\", text_auto=True, barmode='group', color='currency', x='year-month', y='total_price',\n",
    "               labels={\"value\": \"Total Expense\", \"year-month\": \"Month\"})\n",
    "chart.update_layout(showlegend=False)\n",
    "chart.update_xaxes(tickangle=30)"
   ]
  },
  {
   "cell_type": "code",
   "execution_count": null,
   "metadata": {},
   "outputs": [],
   "source": []
  }
 ],
 "metadata": {
  "interpreter": {
   "hash": "4a38d7827957f74bd6a0df63e2a0c44f829ed6538dd08032800214a20ba8058e"
  },
  "kernelspec": {
   "display_name": "Python 3.9.9 64-bit ('.venv': venv)",
   "language": "python",
   "name": "python3"
  },
  "language_info": {
   "codemirror_mode": {
    "name": "ipython",
    "version": 3
   },
   "file_extension": ".py",
   "mimetype": "text/x-python",
   "name": "python",
   "nbconvert_exporter": "python",
   "pygments_lexer": "ipython3",
   "version": "3.9.9"
  },
  "orig_nbformat": 4
 },
 "nbformat": 4,
 "nbformat_minor": 2
}
